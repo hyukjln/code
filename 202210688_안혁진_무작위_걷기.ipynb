{
  "nbformat": 4,
  "nbformat_minor": 0,
  "metadata": {
    "colab": {
      "provenance": []
    },
    "kernelspec": {
      "name": "python3",
      "display_name": "Python 3"
    },
    "language_info": {
      "name": "python"
    }
  },
  "cells": [
    {
      "cell_type": "code",
      "source": [
        "import numpy as np\n",
        "\n",
        "N = 100000\n",
        "\n",
        "# 50개의 스텝에서 각각 -1 또는 1을 선택하는 시뮬레이션\n",
        "steps = np.random.choice([-1, 1], size=(N, 50), p=[0.6, 0.4])\n",
        "\n",
        "# 각 시뮬레이션 당 총 이동 거리 계산\n",
        "f = np.sum(steps, axis=1)\n",
        "\n",
        "# 총 이동 거리가 15 이상인 경우의 비율 계산\n",
        "result = np.sum(f >= 15) / N\n",
        "\n",
        "print(\"15 이상:\", result)\n",
        "\n",
        "\n",
        "\n",
        "# import random as rd\n",
        "\n",
        "# N = 100000\n",
        "# result = 0\n",
        "\n",
        "# for _ in range(N):\n",
        "#     step = 0\n",
        "#     for _ in range(50):\n",
        "#         p = rd.uniform(0, 1)\n",
        "#         if p <= 0.4:\n",
        "#             step += 1\n",
        "#         else:\n",
        "#             step -= 1\n",
        "#     if step >= 15:\n",
        "#         result += 1\n",
        "\n",
        "# print(\"15 이상:\", result)\n",
        "\n",
        "\n",
        "# result / N"
      ],
      "metadata": {
        "colab": {
          "base_uri": "https://localhost:8080/"
        },
        "id": "YBjUgG6NTCXK",
        "outputId": "e66eb63b-1df4-41d5-e5e1-04d1c530b5db"
      },
      "execution_count": null,
      "outputs": [
        {
          "output_type": "stream",
          "name": "stdout",
          "text": [
            "15 이상: 0.00019\n"
          ]
        }
      ]
    },
    {
      "cell_type": "code",
      "source": [
        "\n",
        "\n",
        "import numpy as np\n",
        "\n",
        "N = 10000\n",
        "\n",
        "# 0부터 1까지 균등 분포에서 50개의 난수 생성\n",
        "steps = np.random.uniform(0, 1, size=(N, 50))\n",
        "\n",
        "# steps_a 배열 생성: 0.65 이하인 경우 1로, 그 이상인 경우 -1로 변환\n",
        "steps_a = np.where(steps <= 0.65, 1, -1)\n",
        "\n",
        "# 각 행(axis=1)의 합을 구하여 총 이동 거리 계산\n",
        "sum_per_row = np.sum(steps_a, axis=1)\n",
        "\n",
        "# 각 행(axis=1)에서 값이 1인 경우의 수 계산\n",
        "plus = np.sum(steps_a == 1, axis=1)\n",
        "\n",
        "# 가중치 계산: 총 이동 거리가 15 이상인 경우와 그렇지 않은 경우로 나눔\n",
        "weights = np.where(sum_per_row >= 15, (0.4/0.65)**plus * (0.6/0.35)**(50 - plus), 0)\n",
        "\n",
        "# 결과 출력: 가중치의 평균 계산\n",
        "print('답 : ', np.sum(weights) / N)\n",
        "\n",
        "\n",
        "# import numpy as np\n",
        "# import random as rd\n",
        "# N = 10000\n",
        "# total_w = 0\n",
        "# for _ in range(N):\n",
        "#     step = 0\n",
        "#     plus = 0\n",
        "#     for _ in range(50):\n",
        "#         p = rd.uniform(0, 1)\n",
        "#         if p <= 0.65:\n",
        "#             step += 1\n",
        "#             plus += 1\n",
        "#         else:\n",
        "#             step -= 1\n",
        "#     if step >= 15:\n",
        "#       w =  (0.4/0.65)**(plus) * (0.6/0.35)**(50-plus)\n",
        "#       total_w += w\n",
        "\n",
        "\n",
        "# total_w / N"
      ],
      "metadata": {
        "colab": {
          "base_uri": "https://localhost:8080/"
        },
        "id": "lroon1liajf8",
        "outputId": "e50a91e9-308c-4967-e1aa-1e3523ce198b"
      },
      "execution_count": null,
      "outputs": [
        {
          "output_type": "stream",
          "name": "stdout",
          "text": [
            "답 :  0.00018562019107781403\n"
          ]
        }
      ]
    }
  ]
}