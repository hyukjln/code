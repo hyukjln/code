{
  "nbformat": 4,
  "nbformat_minor": 0,
  "metadata": {
    "colab": {
      "provenance": []
    },
    "kernelspec": {
      "name": "python3",
      "display_name": "Python 3"
    },
    "language_info": {
      "name": "python"
    }
  },
  "cells": [
    {
      "cell_type": "code",
      "execution_count": null,
      "metadata": {
        "colab": {
          "base_uri": "https://localhost:8080/"
        },
        "id": "soxv8etJyWtF",
        "outputId": "d0616b24-0ead-4184-eac1-867cf2dc0a20"
      },
      "outputs": [
        {
          "output_type": "execute_result",
          "data": {
            "text/plain": [
              "array([[ 2, -1, -1, -1],\n",
              "       [ 2,  5, -1, -1],\n",
              "       [ 0,  1,  3,  4],\n",
              "       [ 2, -1, -1, -1],\n",
              "       [ 2, -1, -1, -1],\n",
              "       [ 1,  6,  7, -1],\n",
              "       [ 5, -1, -1, -1],\n",
              "       [ 5, -1, -1, -1]])"
            ]
          },
          "metadata": {},
          "execution_count": 1
        }
      ],
      "source": [
        "import numpy as np\n",
        "N,Kmax = 8,4\n",
        "K = np.array([1,2,4,1,1,3,1,1]) # 이웃의 수\n",
        "nn = np.empty([N,Kmax], int) # 이웃들\n",
        "\n",
        "nn[0] = np.array([2,-1,-1,-1])\n",
        "nn[1] = np.array([2,5,-1,-1])\n",
        "nn[2] = np.array([0,1,3,4])\n",
        "nn[3] = np.array([2,-1,-1,-1])\n",
        "nn[4] = np.array([2,-1,-1,-1])\n",
        "nn[5] = np.array([1,6,7,-1])\n",
        "nn[6] = np.array([5,-1,-1,-1])\n",
        "nn[7] = np.array([5,-1,-1,-1])\n",
        "\n",
        "nn"
      ]
    },
    {
      "cell_type": "code",
      "source": [
        "import queue\n",
        "\n",
        "def bfs(K, nn, start, discovered):\n",
        " q = queue.Queue()\n",
        " q.put(start) # 빈 큐에 출발점 추가하고\n",
        " discovered[start] = 0  # 이 점을 발견 .\n",
        " while q.qsize() > 0: # 큐에 원소가 남아있는 한\n",
        "  element = q.get() # 큐에서 한 점을 뽑아서\n",
        "  for k in range(K[element]):\n",
        "    neighbor = nn[element][k] # 그 이웃 각각에 대해\n",
        "    if discovered[neighbor] == -1 : # 미발견이면\n",
        "      q.put(neighbor) # 큐에 추가하고\n",
        "      discovered[neighbor] = discovered[element]+ 1   # 이 점을 발견 .\n",
        "\n",
        " return discovered\n",
        "start = 0\n",
        "discovered = np.array([-1 ,-1 ,-1 , -1 ,-1 ,-1 ,-1 ,-1 ])\n",
        "a = bfs(K,nn,start,discovered)\n",
        "\n",
        "print(a)"
      ],
      "metadata": {
        "colab": {
          "base_uri": "https://localhost:8080/"
        },
        "id": "OiMmyNGM3Msj",
        "outputId": "cac6d0af-2479-46e3-ec12-593c27501744"
      },
      "execution_count": null,
      "outputs": [
        {
          "output_type": "stream",
          "name": "stdout",
          "text": [
            "[0 2 1 2 2 3 4 4]\n"
          ]
        }
      ]
    }
  ]
}