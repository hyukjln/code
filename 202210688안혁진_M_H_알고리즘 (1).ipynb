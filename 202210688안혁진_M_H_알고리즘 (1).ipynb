{
  "nbformat": 4,
  "nbformat_minor": 0,
  "metadata": {
    "colab": {
      "provenance": []
    },
    "kernelspec": {
      "name": "python3",
      "display_name": "Python 3"
    },
    "language_info": {
      "name": "python"
    }
  },
  "cells": [
    {
      "cell_type": "code",
      "execution_count": null,
      "metadata": {
        "id": "6WhZmpq3ldCr"
      },
      "outputs": [],
      "source": [
        "import random as rd\n",
        "import numpy as np\n",
        "import matplotlib.pyplot as plt\n"
      ]
    },
    {
      "cell_type": "code",
      "source": [
        "def p(x):\n",
        "  return np.sqrt(2*np.pi) * np.exp(-x**2/2)\n",
        "\n",
        "def q(x,m,s = 0.5):\n",
        "  return 1/s * np.exp(-(x-m)/s)*np.exp(-np.exp(-(x-m)/s))\n"
      ],
      "metadata": {
        "id": "SBappmfEqCbw"
      },
      "execution_count": null,
      "outputs": []
    },
    {
      "cell_type": "code",
      "source": [
        "T = 10000  # 시뮬레이션 반복 횟수\n",
        "x = 5  # 초기 x 값\n",
        "xlist = [x]  # x 값들을 저장할 리스트\n",
        "\n",
        "# T번 반복하여 Metropolis 알고리즘을 수행\n",
        "for i in range(T):\n",
        "    next_x = x  # 현재 x 값\n",
        "    xstar = np.random.gumbel(loc=next_x, scale=0.5)  # 제안 분포로부터 새로운 xstar 값을 샘플링\n",
        "    # 계산할 acceptance ratio (alpha) 계산\n",
        "    alpha = min(1, (p(xstar) * q(x=next_x, m=xstar)) / (p(next_x) * q(x=xstar, m=next_x)))\n",
        "\n",
        "    # Metropolis 알고리즘에 따라 x 값 업데이트\n",
        "    if alpha == 1:\n",
        "        x = xstar  # alpha가 1이면 항상 새로운 xstar를 선택\n",
        "        xlist.append(x)  # x 값을 리스트에 추가\n",
        "    else:\n",
        "        u = rd.uniform(0, 1)  # 0과 1 사이의 균일 분포에서 난수 u 생성\n",
        "        if u < alpha:\n",
        "            x = xstar  # alpha보다 u가 작으면 새로운 xstar를 선택\n",
        "            xlist.append(x)  # x 값을 리스트에 추가\n",
        "        else:\n",
        "            xlist.append(next_x)  # 아니면 현재 x 값을 유지하고 리스트에 추가\n",
        "\n",
        "# 결과 시각화: x 값들의 히스토그램을 그림\n",
        "plt.hist(xlist, bins=100)\n"
      ],
      "metadata": {
        "colab": {
          "base_uri": "https://localhost:8080/",
          "height": 1000
        },
        "id": "7FWsHHU8nY0O",
        "outputId": "a1933fb8-4b17-4f1e-db5c-cdf9853f51a4"
      },
      "execution_count": null,
      "outputs": [
        {
          "output_type": "execute_result",
          "data": {
            "text/plain": [
              "(array([  1.,   0.,   0.,   5.,   0.,   5.,   6.,   5.,   6.,  16.,  25.,\n",
              "         12.,  19.,  29.,  19.,  30.,  25.,  59.,  46.,  73.,  64.,  73.,\n",
              "         84.,  97., 118., 140., 191., 188., 239., 204., 221., 226., 268.,\n",
              "        294., 320., 312., 320., 375., 367., 390., 383., 368., 349., 337.,\n",
              "        333., 333., 328., 286., 316., 230., 183., 214., 199., 183., 192.,\n",
              "        130., 117., 110.,  61.,  72.,  57.,  58.,  53.,  38.,  27.,  22.,\n",
              "         35.,  11.,  17.,   8.,   1.,   1.,   4.,   4.,   1.,   0.,   1.,\n",
              "          1.,  14.,   2.,   2.,   1.,   1.,   5.,   1.,   5.,   1.,  13.,\n",
              "          0.,   2.,   1.,  10.,   2.,   1.,   0.,   0.,   1.,   1.,   1.,\n",
              "          2.]),\n",
              " array([-3.53361403e+00, -3.44738944e+00, -3.36116486e+00, -3.27494027e+00,\n",
              "        -3.18871569e+00, -3.10249110e+00, -3.01626652e+00, -2.93004193e+00,\n",
              "        -2.84381735e+00, -2.75759276e+00, -2.67136817e+00, -2.58514359e+00,\n",
              "        -2.49891900e+00, -2.41269442e+00, -2.32646983e+00, -2.24024525e+00,\n",
              "        -2.15402066e+00, -2.06779608e+00, -1.98157149e+00, -1.89534691e+00,\n",
              "        -1.80912232e+00, -1.72289774e+00, -1.63667315e+00, -1.55044857e+00,\n",
              "        -1.46422398e+00, -1.37799940e+00, -1.29177481e+00, -1.20555023e+00,\n",
              "        -1.11932564e+00, -1.03310106e+00, -9.46876471e-01, -8.60651886e-01,\n",
              "        -7.74427300e-01, -6.88202715e-01, -6.01978130e-01, -5.15753545e-01,\n",
              "        -4.29528960e-01, -3.43304374e-01, -2.57079789e-01, -1.70855204e-01,\n",
              "        -8.46306187e-02,  1.59396645e-03,  8.78185517e-02,  1.74043137e-01,\n",
              "         2.60267722e-01,  3.46492307e-01,  4.32716892e-01,  5.18941478e-01,\n",
              "         6.05166063e-01,  6.91390648e-01,  7.77615233e-01,  8.63839818e-01,\n",
              "         9.50064404e-01,  1.03628899e+00,  1.12251357e+00,  1.20873816e+00,\n",
              "         1.29496274e+00,  1.38118733e+00,  1.46741191e+00,  1.55363650e+00,\n",
              "         1.63986109e+00,  1.72608567e+00,  1.81231026e+00,  1.89853484e+00,\n",
              "         1.98475943e+00,  2.07098401e+00,  2.15720860e+00,  2.24343318e+00,\n",
              "         2.32965777e+00,  2.41588235e+00,  2.50210694e+00,  2.58833152e+00,\n",
              "         2.67455611e+00,  2.76078069e+00,  2.84700528e+00,  2.93322986e+00,\n",
              "         3.01945445e+00,  3.10567903e+00,  3.19190362e+00,  3.27812820e+00,\n",
              "         3.36435279e+00,  3.45057737e+00,  3.53680196e+00,  3.62302654e+00,\n",
              "         3.70925113e+00,  3.79547572e+00,  3.88170030e+00,  3.96792489e+00,\n",
              "         4.05414947e+00,  4.14037406e+00,  4.22659864e+00,  4.31282323e+00,\n",
              "         4.39904781e+00,  4.48527240e+00,  4.57149698e+00,  4.65772157e+00,\n",
              "         4.74394615e+00,  4.83017074e+00,  4.91639532e+00,  5.00261991e+00,\n",
              "         5.08884449e+00]),\n",
              " <BarContainer object of 100 artists>)"
            ]
          },
          "metadata": {},
          "execution_count": 55
        },
        {
          "output_type": "display_data",
          "data": {
            "text/plain": [
              "<Figure size 640x480 with 1 Axes>"
            ],
            "image/png": "[encoded data removed]"
          },
          "metadata": {}
        }
      ]
    }
  ]
}