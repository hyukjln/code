{
  "nbformat": 4,
  "nbformat_minor": 0,
  "metadata": {
    "colab": {
      "provenance": []
    },
    "kernelspec": {
      "name": "python3",
      "display_name": "Python 3"
    },
    "language_info": {
      "name": "python"
    }
  },
  "cells": [
    {
      "cell_type": "markdown",
      "source": [
        "예제 5.3.1"
      ],
      "metadata": {
        "id": "flfP9XDmwGsa"
      }
    },
    {
      "cell_type": "code",
      "execution_count": null,
      "metadata": {
        "id": "dcXGFQh8fAde"
      },
      "outputs": [],
      "source": [
        "import math\n",
        "import random as rd\n",
        "import numpy as np\n"
      ]
    },
    {
      "cell_type": "markdown",
      "source": [
        "1번"
      ],
      "metadata": {
        "id": "Z-CohVfVjOTD"
      }
    },
    {
      "cell_type": "code",
      "source": [
        "import numpy as np\n",
        "import numpy.random as rd\n",
        "\n",
        "# g(x) 함수 정의\n",
        "def g(x):\n",
        "    return np.exp(-0.5 * x**2)\n",
        "\n",
        "# 샘플 크기 설정\n",
        "N = 10000\n",
        "\n",
        "# [0, 10] 구간에서 균등 분포를 따르는 난수 생성\n",
        "random_values = rd.uniform(0, 10, N)\n",
        "\n",
        "# g(x) 함수에 난수 값을 입력하여 결과 계산\n",
        "results = g(random_values)\n",
        "\n",
        "# 결과의 평균 계산\n",
        "average_result = np.mean(results)\n",
        "\n",
        "# 평균 결과 출력\n",
        "print(average_result)\n"
      ],
      "metadata": {
        "colab": {
          "base_uri": "https://localhost:8080/"
        },
        "id": "GCaFLtluwBJt",
        "outputId": "373ea3eb-14b8-4c48-d640-af769d2d6f74"
      },
      "execution_count": null,
      "outputs": [
        {
          "output_type": "stream",
          "name": "stdout",
          "text": [
            "0.12541632393354096\n"
          ]
        }
      ]
    },
    {
      "cell_type": "markdown",
      "source": [
        "2번\n"
      ],
      "metadata": {
        "id": "1zaQcNzNjR0E"
      }
    },
    {
      "cell_type": "code",
      "source": [
        "import numpy as np\n",
        "import numpy.random as rd\n",
        "\n",
        "# g(x) 함수 정의\n",
        "def g(x):\n",
        "    return np.exp(-0.5 * x**2)\n",
        "\n",
        "# 균등 분포의 확률 밀도 함수 정의\n",
        "def p(x, a=0, b=10):\n",
        "    return 1 / (b - a)\n",
        "\n",
        "# q(x) 함수 정의\n",
        "def q(x):\n",
        "    return np.exp(-x) / (1 - np.exp(-10))\n",
        "\n",
        "# 중요도 샘플링 가중치 함수 정의\n",
        "def w(x, a=0, b=10):\n",
        "    return p(x, a, b) / q(x)\n",
        "\n",
        "# 샘플 크기 설정\n",
        "N = 10000\n",
        "\n",
        "# [0, 1] 구간에서 균등 분포를 따르는 난수 생성\n",
        "u_values = rd.uniform(0, 1, N)\n",
        "\n",
        "# 역변환 샘플링을 사용하여 x 값 생성\n",
        "x_values = -np.log(1 - (1 - np.exp(-10)) * u_values)\n",
        "\n",
        "# g(x) 함수에 난수 값을 입력하여 결과 계산\n",
        "g_values = g(x_values)\n",
        "\n",
        "# 중요도 샘플링 가중치 계산\n",
        "w_values = w(x_values)\n",
        "\n",
        "# 가중치를 적용한 g(x) 값의 평균 계산\n",
        "result = np.sum(g_values * w_values) / N\n",
        "\n",
        "# 결과 출력\n",
        "print(result)\n"
      ],
      "metadata": {
        "colab": {
          "base_uri": "https://localhost:8080/"
        },
        "id": "qexK1Sl6go-B",
        "outputId": "ec79f7cc-c214-4b66-c2ea-4dfb8ccfac10"
      },
      "execution_count": null,
      "outputs": [
        {
          "output_type": "execute_result",
          "data": {
            "text/plain": [
              "0.12549835914602434"
            ]
          },
          "metadata": {},
          "execution_count": 101
        }
      ]
    },
    {
      "cell_type": "markdown",
      "source": [
        "예제 5.3.2"
      ],
      "metadata": {
        "id": "h67-IooTvpV1"
      }
    },
    {
      "cell_type": "code",
      "source": [
        "import numpy as np\n",
        "import numpy.random as rd\n",
        "\n",
        "def g(x):\n",
        "    if x > 3:\n",
        "        return 1\n",
        "    else:\n",
        "        return 0\n",
        "\n",
        "def p(x):\n",
        "    return np.exp(-x**2 / 2) * (1 / np.sqrt(2 * np.pi))\n",
        "\n",
        "def q(x, z=3):\n",
        "    return np.exp(-(x - z)**2 / 2) * (1 / np.sqrt(2 * np.pi))\n",
        "\n",
        "# 샘플 크기 설정\n",
        "N = 10000\n",
        "\n",
        "# q(x)에서 샘플링하여 x 값 생성\n",
        "x_values = rd.normal(3, 1, N)\n",
        "\n",
        "# 가중치 계산 및 결과 계산\n",
        "w_values = np.array([g(x) * p(x) / q(x) for x in x_values])\n",
        "average_result = np.mean(w_values)\n",
        "\n",
        "print(average_result)\n"
      ],
      "metadata": {
        "id": "f_S_uG1gpwH0"
      },
      "execution_count": null,
      "outputs": []
    },
    {
      "cell_type": "markdown",
      "source": [
        "1번"
      ],
      "metadata": {
        "id": "Aok3tQGEvyAi"
      }
    },
    {
      "cell_type": "code",
      "source": [
        "import numpy as np\n",
        "\n",
        "N = 10000\n",
        "x = np.random.normal(0, 1, N)  # 평균 0, 표준편차 1인 정규 분포에서 N개의 샘플 생성\n",
        "y = np.where(x > 3, 1, 0)  # x > 3인 경우 1, 그렇지 않으면 0으로 변환\n",
        "result = np.sum(y) / N  # y의 평균 계산하여 기대값 추정\n",
        "\n",
        "print(result)\n"
      ],
      "metadata": {
        "colab": {
          "base_uri": "https://localhost:8080/"
        },
        "id": "859mtVE2qr-c",
        "outputId": "a512400b-5468-4880-a4cd-c064d7faa499"
      },
      "execution_count": null,
      "outputs": [
        {
          "output_type": "execute_result",
          "data": {
            "text/plain": [
              "0.0012"
            ]
          },
          "metadata": {},
          "execution_count": 54
        }
      ]
    },
    {
      "cell_type": "markdown",
      "source": [
        "2번"
      ],
      "metadata": {
        "id": "2t-r3_PGvzVu"
      }
    },
    {
      "cell_type": "code",
      "source": [
        "import numpy as np\n",
        "\n",
        "N = 10000\n",
        "x = np.random.normal(3, 1, N)  # 평균 3, 표준편차 1인 정규 분포에서 N개의 샘플 생성\n",
        "g = np.where(x > 3, 1, 0)  # x > 3인 경우 1, 그렇지 않으면 0으로 변환\n",
        "w = np.array(p(x) / q(x))  # p(x) / q(x)를 계산하여 가중치 배열 생성\n",
        "result = np.sum(g * w) / N  # g * w의 합을 계산하여 평균을 구함\n",
        "\n",
        "print(result)\n"
      ],
      "metadata": {
        "colab": {
          "base_uri": "https://localhost:8080/"
        },
        "id": "IKGP6fD8ufd2",
        "outputId": "7c8e2c04-36eb-404c-f598-2de1742f2ccd"
      },
      "execution_count": null,
      "outputs": [
        {
          "output_type": "execute_result",
          "data": {
            "text/plain": [
              "0.0012972300279200711"
            ]
          },
          "metadata": {},
          "execution_count": 110
        }
      ]
    }
  ]
}