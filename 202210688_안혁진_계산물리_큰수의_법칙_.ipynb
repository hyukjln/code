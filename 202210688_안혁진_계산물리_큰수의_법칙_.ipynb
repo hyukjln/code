{
  "nbformat": 4,
  "nbformat_minor": 0,
  "metadata": {
    "colab": {
      "provenance": []
    },
    "kernelspec": {
      "name": "python3",
      "display_name": "Python 3"
    },
    "language_info": {
      "name": "python"
    }
  },
  "cells": [
    {
      "cell_type": "markdown",
      "source": [
        "**방법 1 : uniform**"
      ],
      "metadata": {
        "id": "KMP4i06gELTk"
      }
    },
    {
      "cell_type": "code",
      "execution_count": null,
      "metadata": {
        "colab": {
          "base_uri": "https://localhost:8080/"
        },
        "id": "FTXfFD6ZYzJo",
        "outputId": "240b182e-fded-4436-bcb0-201e36ac7f81"
      },
      "outputs": [
        {
          "output_type": "stream",
          "name": "stdout",
          "text": [
            "uniform 방법 평균 1.00135691125819\n",
            "uniform 방법 분산 6.710018014989054e-06\n",
            "[0.9996496318772478, 1.0057613557844791, 1.000222945774667, 1.00060996482787, 1.000285926402865, 0.9992851046487491, 0.9975292422322645, 1.0048136890441812, 1.003232220751274, 1.0021790312383032]\n"
          ]
        }
      ],
      "source": [
        "import random as rd\n",
        "\n",
        "# 시뮬레이션 반복 횟수\n",
        "N = 100000\n",
        "\n",
        "# 개별 반복 시의 결과를 저장할 리스트\n",
        "gi_1 = []\n",
        "\n",
        "# 평균 계산을 위한 변수 초기화\n",
        "result1 = 0\n",
        "\n",
        "# 함수 g(x) 정의\n",
        "def g(x):\n",
        "    return 3 * x**2\n",
        "\n",
        "# 10번 반복하여 시뮬레이션 수행\n",
        "for i in range(10):\n",
        "    sum = 0\n",
        "    # N번의 무작위 샘플을 이용하여 함수 g의 값을 합산\n",
        "    for i in range(N):\n",
        "        sum += g(rd.random())\n",
        "    # 평균 값을 계산하여 result1에 누적\n",
        "    result1 += sum / N\n",
        "    # 개별 결과를 리스트에 저장\n",
        "    gi_1.append(sum / N)\n",
        "\n",
        "# 10번 반복한 평균 값 계산\n",
        "avg_g1 = result1 / 10\n",
        "\n",
        "# 평균 값 출력\n",
        "print(\"uniform 방법 평균\", avg_g1)\n",
        "\n",
        "# 분산 계산을 위한 변수 초기화\n",
        "sum_k = 0\n",
        "\n",
        "# 분산 계산\n",
        "for i in range(10):\n",
        "    k = (gi_1[i] - avg_g1)**2\n",
        "    sum_k += k\n",
        "\n",
        "# 분산 값 계산\n",
        "var1 = sum_k / 9\n",
        "\n",
        "# 분산 값 출력\n",
        "print(\"uniform 방법 분산\", var1)\n",
        "\n",
        "# 개별 반복 결과 출력\n",
        "print(gi_1)\n"
      ]
    },
    {
      "cell_type": "code",
      "source": [
        "import numpy as np\n",
        "\n",
        "# 시뮬레이션 반복 횟수 및 반복 횟수 설정\n",
        "N = 100000\n",
        "num_iterations = 10\n",
        "\n",
        "# 함수 g(x) 정의\n",
        "def g(x):\n",
        "    return 3 * x**2\n",
        "\n",
        "# 무작위 숫자를 생성하여 num_iterations x N 형태의 배열 생성\n",
        "random_numbers = np.random.random((num_iterations, N))\n",
        "\n",
        "# 각 반복에 대해 함수 g(x)의 평균 값을 계산하여 배열로 저장\n",
        "gi_values = np.mean(g(random_numbers), axis=1)\n",
        "\n",
        "# 10번 반복한 평균 값 계산\n",
        "avg_g1 = np.mean(gi_values)\n",
        "\n",
        "# 10번 반복한 분산 값 계산\n",
        "var_g1 = np.var(gi_values)\n",
        "\n",
        "# 평균 값 출력\n",
        "print(\"uniform 방법 평균\", avg_g1)\n",
        "\n",
        "# 분산 값 출력\n",
        "print(\"uniform 방법 분산\", var_g1)\n",
        "\n",
        "# 각 반복에 대한 평균 값 출력\n",
        "print(gi_values)\n"
      ],
      "metadata": {
        "colab": {
          "base_uri": "https://localhost:8080/"
        },
        "id": "17woE5K4kP7D",
        "outputId": "3f8cfb56-21a0-472c-f901-93bc1f06b549"
      },
      "execution_count": null,
      "outputs": [
        {
          "output_type": "stream",
          "name": "stdout",
          "text": [
            "uniform 방법 평균 1.000335420598042\n",
            "uniform 방법 분산 1.1632811528186762e-05\n",
            "[0.99414859 1.00279542 1.00629596 0.99975233 1.00052012 1.00370486\n",
            " 0.99607656 1.00094293 0.99797271 1.00114473]\n"
          ]
        }
      ]
    },
    {
      "cell_type": "markdown",
      "source": [
        "**방법 2 : beta(a,b) **"
      ],
      "metadata": {
        "id": "CoCGAQdUGgyd"
      }
    },
    {
      "cell_type": "code",
      "source": [
        "import math\n",
        "import numpy as np\n",
        "\n",
        "a = 2\n",
        "b = 2\n",
        "gi_2 = []\n",
        "result2 = 0\n",
        "\n",
        "# 함수 f(x) 정의\n",
        "def f(x):\n",
        "    return (math.gamma(a+b) * x**(a-1) * (1-x)**(b-1)) / (math.gamma(a) * math.gamma(b))\n",
        "\n",
        "# 함수 g(x) 정의\n",
        "def g(x):\n",
        "    return 3 * x**2\n",
        "\n",
        "# N 값 설정 (N 값을 추가해야 함)\n",
        "N = 1000\n",
        "\n",
        "# 메인 루프 (10회 반복)\n",
        "for i in range(10):\n",
        "    sum = 0\n",
        "    for i in range(N):\n",
        "        # 베타 분포에서 난수 생성\n",
        "        random_number = np.random.beta(a, b)\n",
        "        sum += g(random_number) / f(random_number)\n",
        "\n",
        "    # 결과 합산\n",
        "    result2 += sum / N\n",
        "    gi_2.append(sum / N)\n",
        "\n",
        "# 평균 계산\n",
        "avg_g2 = result2 / 10\n",
        "print(\"beta(a,b) 방법 평균\", avg_g2)\n",
        "\n",
        "# 분산 계산\n",
        "sum_k = 0\n",
        "for i in range(10):\n",
        "    k = (gi_2[i] - avg_g2)**2\n",
        "    sum_k += k\n",
        "\n",
        "var2 = sum_k / 9\n",
        "print(\"beta(a,b) 방법 분산\", var2)\n",
        "\n",
        "print(gi_2)\n"
      ],
      "metadata": {
        "colab": {
          "base_uri": "https://localhost:8080/"
        },
        "id": "do9oeZlBZAxX",
        "outputId": "6e72efe9-961c-4720-997d-e86763fb6251"
      },
      "execution_count": null,
      "outputs": [
        {
          "output_type": "stream",
          "name": "stdout",
          "text": [
            "beta(a,b) 방법 평균 0.9973547523621971\n",
            "beta(a,b) 방법 분산 5.515806857572799e-05\n",
            "[0.9959242136696788, 0.9861993888339596, 1.0095782505980089, 0.9937677892781361, 0.9939023058361777, 1.005142854875732, 0.9962963698332657, 0.992696399781462, 1.0070218555294976, 0.9930180953860521]\n"
          ]
        }
      ]
    },
    {
      "cell_type": "code",
      "source": [
        "import numpy as np\n",
        "from scipy.stats import beta\n",
        "\n",
        "a = 2\n",
        "b = 2\n",
        "N = 100000  # 샘플 크기\n",
        "num_iterations = 10  # 반복 횟수\n",
        "\n",
        "# 베타 분포의 확률 밀도 함수\n",
        "def f(x):\n",
        "    return beta.pdf(x, a, b)\n",
        "# 함수 g(x) 정의\n",
        "def g(x):\n",
        "    return 3 * x**2\n",
        "# N개의 랜덤 넘버를 num_iterations 번 생성\n",
        "random_numbers = np.random.beta(a, b, (num_iterations, N))\n",
        "\n",
        "# 반복마다의 gi 값 계산\n",
        "gi_values = np.mean(g(random_numbers) / f(random_numbers), axis=1)\n",
        "\n",
        "# 평균 계산\n",
        "avg_g2 = np.mean(gi_values)\n",
        "\n",
        "# 분산 계산\n",
        "var_g2 = np.var(gi_values)\n",
        "\n",
        "# 결과 출력\n",
        "print(\"beta(a,b) 방법 평균\", avg_g2)\n",
        "print(\"beta(a,b) 방법 분산\", var_g2)\n",
        "print(gi_values)\n"
      ],
      "metadata": {
        "colab": {
          "base_uri": "https://localhost:8080/"
        },
        "id": "51Zx7LZjkbzv",
        "outputId": "a3a75c2c-cd01-4c98-d40d-969c259eff6d"
      },
      "execution_count": null,
      "outputs": [
        {
          "output_type": "stream",
          "name": "stdout",
          "text": [
            "beta(a,b) 방법 평균 1.0010768305096613\n",
            "beta(a,b) 방법 분산 6.456215328062575e-05\n",
            "[1.00487173 1.00780338 1.00228737 0.98528262 1.00098561 0.9984095\n",
            " 0.99096557 1.00078739 1.00346994 1.01590519]\n"
          ]
        }
      ]
    },
    {
      "cell_type": "markdown",
      "source": [
        "**방법 3 : f(y) = 2*y**"
      ],
      "metadata": {
        "id": "TCYX0oV6GoLJ"
      }
    },
    {
      "cell_type": "code",
      "source": [
        "import math\n",
        "import numpy as np\n",
        "import random as rd\n",
        "\n",
        "# 함수 g(x) 정의\n",
        "def g(x):\n",
        "    return 3 * x**2\n",
        "# 샘플 크기 및 반복 횟수 정의\n",
        "N = 100000\n",
        "num_iterations = 10\n",
        "\n",
        "gi_3 = []\n",
        "result3 = 0\n",
        "\n",
        "# fy(x) 함수 정의\n",
        "def fy(x):\n",
        "    return 2 * x\n",
        "\n",
        "# 주 반복 루프 (10회 반복)\n",
        "for i in range(num_iterations):\n",
        "    sum = 0\n",
        "    for i in range(N):\n",
        "        # [0,1] 구간에서 균등 분포를 따르는 난수 생성\n",
        "        x = rd.uniform(0, 1)\n",
        "        # y_1 계산\n",
        "        y_1 = math.sqrt(x)\n",
        "        # g(y_1) / fy(y_1) 값 합산\n",
        "        sum += g(y_1) / fy(y_1)\n",
        "    # 각 반복의 평균 계산\n",
        "    result3 += sum / N\n",
        "    gi_3.append(sum / N)\n",
        "\n",
        "# 전체 평균 계산\n",
        "avg_g3 = result3 / num_iterations\n",
        "print(\"f(y) = 2*y 방법 평균\", avg_g3)\n",
        "\n",
        "# 분산 계산\n",
        "sum_k = 0\n",
        "for i in range(num_iterations):\n",
        "    k = (gi_3[i] - avg_g3)**2\n",
        "    sum_k += k\n",
        "\n",
        "var3 = sum_k / (num_iterations - 1)\n",
        "print(\"f(y) = 2*y 방법 분산\", var3)\n",
        "\n",
        "# gi_3 값 출력\n",
        "print(gi_3)\n"
      ],
      "metadata": {
        "colab": {
          "base_uri": "https://localhost:8080/"
        },
        "id": "sz6VJnVsZj1k",
        "outputId": "e05d57ae-d5fd-4cfa-e555-bdbe8caf7677"
      },
      "execution_count": null,
      "outputs": [
        {
          "output_type": "stream",
          "name": "stdout",
          "text": [
            "f(y) = 2*y 방법 평균 1.000299432301704\n",
            "f(y) = 2*y 방법 분산 1.948420012056145e-06\n"
          ]
        }
      ]
    },
    {
      "cell_type": "code",
      "source": [
        "import numpy as np\n",
        "\n",
        "# 샘플 크기 및 반복 횟수 정의\n",
        "N = 100000\n",
        "num_iterations = 10\n",
        "\n",
        "# fy(x) 함수 정의\n",
        "def fy(x):\n",
        "    return 2 * x\n",
        "\n",
        "# g(y) 함수 정의\n",
        "def g(y):\n",
        "    return 3 * y**2\n",
        "\n",
        "# [0,1] 구간에서 균등 분포를 따르는 난수 생성\n",
        "random_numbers = np.random.uniform(0, 1, (num_iterations, N))\n",
        "\n",
        "# 난수를 y 값으로 변환\n",
        "y_values = np.sqrt(random_numbers)\n",
        "\n",
        "# 각 반복의 gi 값 계산\n",
        "gi_values = np.mean(g(y_values) / fy(y_values), axis=1)\n",
        "\n",
        "# 평균 계산\n",
        "avg_g3 = np.mean(gi_values)\n",
        "\n",
        "# 분산 계산\n",
        "var_g3 = np.var(gi_values)\n",
        "\n",
        "# 결과 출력\n",
        "print(\"f(y) = 2*y 방법 평균\", avg_g3)\n",
        "print(\"f(y) = 2*y 방법 분산\", var_g3)\n",
        "print(gi_values)\n"
      ],
      "metadata": {
        "id": "izx8qG5hk0ze",
        "outputId": "7049be14-2fb2-4036-f59e-3091aa13bec6",
        "colab": {
          "base_uri": "https://localhost:8080/"
        }
      },
      "execution_count": null,
      "outputs": [
        {
          "output_type": "stream",
          "name": "stdout",
          "text": [
            "f(y) = 2*y 방법 평균 1.000078209355078\n",
            "f(y) = 2*y 방법 분산 1.5266903776986845e-06\n",
            "[0.99826687 1.00043335 0.99974129 0.998568   0.99907553 0.99929566\n",
            " 1.00185256 1.00046349 1.00190446 1.00118089]\n"
          ]
        }
      ]
    },
    {
      "cell_type": "code",
      "source": [
        "print(\"\"\"방법 1 평균 : {} , 방법 2 평균 : {} , 방법 3 평균 : {}\n",
        "방법 1 분산 : {} , 방법 2 분산 : {} , 방법 3 분산 : {}\"\"\".format(avg_g1,avg_g2,avg_g3,var1,var2,var3))"
      ],
      "metadata": {
        "colab": {
          "base_uri": "https://localhost:8080/"
        },
        "id": "f4r9kHHyDRNj",
        "outputId": "3e234375-c6e5-48b2-ab6e-35bc5a5078c0"
      },
      "execution_count": null,
      "outputs": [
        {
          "output_type": "stream",
          "name": "stdout",
          "text": [
            "방법 1 평균 : 1.00135691125819 , 방법 2 평균 : 0.9973547523621971 , 방법 3 평균 : 1.000299432301704\n",
            "방법 1 분산 : 6.710018014989054e-06 , 방법 2 분산 : 5.515806857572799e-05 , 방법 3 분산 : 1.948420012056145e-06\n"
          ]
        }
      ]
    },
    {
      "cell_type": "code",
      "source": [],
      "metadata": {
        "id": "IyouMp-1Mgj7"
      },
      "execution_count": null,
      "outputs": []
    }
  ]
}